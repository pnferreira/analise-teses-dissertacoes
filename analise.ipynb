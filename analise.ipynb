{
 "cells": [
  {
   "cell_type": "code",
   "execution_count": null,
   "metadata": {},
   "outputs": [],
   "source": [
    "import pandas as pd \n",
    "\n",
    "df_real = pd.read_excel(open('theses_dissertations_with_pdfs.xlsx', 'rb'),\n",
    "              sheet_name='escolhidos-real') \n",
    "\n",
    "df_extras = pd.read_excel(open('theses_dissertations_with_pdfs.xlsx', 'rb'),\n",
    "              sheet_name='escolhidos-extendido-bloq') "
   ]
  },
  {
   "cell_type": "code",
   "execution_count": null,
   "metadata": {},
   "outputs": [],
   "source": [
    "df_extras"
   ]
  },
  {
   "cell_type": "code",
   "execution_count": null,
   "metadata": {},
   "outputs": [],
   "source": [
    "import seaborn as sns\n",
    "import matplotlib.pyplot as plt\n",
    "import plotly.express as px"
   ]
  },
  {
   "cell_type": "code",
   "execution_count": null,
   "metadata": {},
   "outputs": [],
   "source": [
    "year_counts1 = df_real['Year'].value_counts().reset_index()\n",
    "year_counts2 = df_extras[df_extras['PDF_Name'] == 'Download Failed']['Year'].value_counts().reset_index()\n",
    "\n",
    "year_counts1.columns = ['Year', 'Real']\n",
    "year_counts2.columns = ['Year', 'Extra - sem acesso']\n",
    "\n",
    "# Merge the datasets on 'Year'\n",
    "merged_counts = pd.merge(year_counts2, year_counts1, on='Year', how='outer').fillna(0)\n",
    "\n",
    "# Melt the DataFrame to long format for seaborn\n",
    "melted_counts = pd.melt(merged_counts, id_vars='Year', value_vars=['Real', 'Extra - sem acesso'], var_name='Categoria', value_name='Qt de trabalhos')\n",
    "\n",
    "melted_counts\n"
   ]
  },
  {
   "cell_type": "code",
   "execution_count": null,
   "metadata": {},
   "outputs": [],
   "source": [
    "\n",
    "# Plotting the stacked bar chart using Seaborn\n",
    "fig = px.bar(melted_counts, x=\"Year\", y=\"Qt de trabalhos\", color=\"Categoria\", text_auto=True, color_discrete_sequence= px.colors.qualitative.Set2)\n",
    "fig.update_layout(\n",
    "    xaxis=dict(\n",
    "        tickmode='linear',\n",
    "        dtick=1,  # Assumes 'Year' is in a yearly format. Adjust if needed.\n",
    "        tickformat='%Y'  # Ensures the ticks are formatted as years\n",
    "    ),\n",
    "    width=800,  # Set the width of the figure (adjust as needed)\n",
    "    height=400,   # Set the height of the figure (adjust as needed)\n",
    "    xaxis_title='Ano',\n",
    "    title='Teses e Dissertações em comp. quântica por ano'\n",
    ")\n",
    "fig.show()"
   ]
  },
  {
   "cell_type": "code",
   "execution_count": null,
   "metadata": {},
   "outputs": [],
   "source": [
    "import geobr\n",
    "cidades_br = geobr.read_municipal_seat()\n",
    "cidades_br"
   ]
  },
  {
   "cell_type": "code",
   "execution_count": null,
   "metadata": {},
   "outputs": [],
   "source": [
    "dados = {'name_muni':sorted(df_extras['City'].unique())}"
   ]
  },
  {
   "cell_type": "code",
   "execution_count": null,
   "metadata": {},
   "outputs": [],
   "source": [
    "df = pd.merge(pd.DataFrame(dados), cidades_br, on='name_muni', how='left')\n",
    "df"
   ]
  },
  {
   "cell_type": "code",
   "execution_count": null,
   "metadata": {},
   "outputs": [],
   "source": [
    "# consertando santa maria, santo andré e são carlos\n",
    "df = df.drop([15, 17, 20])"
   ]
  },
  {
   "cell_type": "code",
   "execution_count": null,
   "metadata": {},
   "outputs": [],
   "source": [
    "df['geometry'] = df['geometry'].astype('str')"
   ]
  },
  {
   "cell_type": "code",
   "execution_count": null,
   "metadata": {},
   "outputs": [],
   "source": [
    "import pandas as pd\n",
    "import plotly.express as px\n",
    "\n",
    "df_data_points = df_extras\n",
    "\n",
    "df = df.rename(columns={\"name_muni\": \"City\"})\n",
    "df_geometry = df\n",
    "\n",
    "# Merge the data points with the geometry data on city name\n",
    "df_merged = pd.merge(df_data_points, df_geometry, on='City', how='inner')\n",
    "\n",
    "# Count occurrences of each city\n",
    "df_counts = df_merged['City'].value_counts().reset_index()\n",
    "df_counts.columns = ['City', 'count']\n",
    "\n",
    "# Merge counts with geometry data\n",
    "df_final = pd.merge(df_counts, df_geometry, on='City', how='inner')\n",
    "\n",
    "# Extract latitude and longitude from the geometry column\n",
    "def extract_lat_lon(geometry):\n",
    "    point = geometry.split('POINT (')[1].replace(')', '').split()\n",
    "    lon, lat = map(float, point)\n",
    "    return lat, lon\n",
    "\n",
    "# Apply the function to extract lat and lon\n",
    "df_final[['lat', 'lon']] = df_final['geometry'].apply(lambda x: pd.Series(extract_lat_lon(x)))\n",
    "\n",
    "# Categorize counts into bins and assign colors\n",
    "bins = [0, 1, 3, 5, 7, 9, float('inf')]\n",
    "labels = ['1', '2-3', '4-5', '6-7', '8-9', '10+']\n",
    "\n",
    "\n",
    "df_final['count_bin'] = pd.cut(df_final['count'], bins=bins, labels=labels)\n",
    "\n",
    "# Create a bubble plot map using Plotly\n",
    "fig = px.scatter_mapbox(\n",
    "    df_final,\n",
    "    lat='lat',\n",
    "    lon='lon',\n",
    "    size='count',\n",
    "    color='count_bin',\n",
    "    hover_name='City',\n",
    "    zoom=3,\n",
    "    height=500,\n",
    "    width=800,\n",
    "    color_discrete_sequence=px.colors.sequential.Greens_r,\n",
    "    size_max=30\n",
    ")\n",
    "\n",
    "# Update the map style\n",
    "fig.update_layout(\n",
    "    mapbox_style='open-street-map',\n",
    "    legend_title=\"Contagem\"\n",
    ")\n",
    "\n",
    "# Show the map\n",
    "fig.show()"
   ]
  },
  {
   "cell_type": "code",
   "execution_count": null,
   "metadata": {
    "scrolled": true
   },
   "outputs": [],
   "source": [
    "mais_univ = df_merged['Institution'].value_counts().reset_index()\n",
    "fig = px.bar(mais_univ.head(), x='count', y='Institution', text_auto=True, color_discrete_sequence= px.colors.qualitative.Set2)\n",
    "\n",
    "fig.update_layout(\n",
    "    width=800,  # Set the width of the figure (adjust as needed)\n",
    "    height=300,   # Set the height of the figure (adjust as needed)\n",
    "    xaxis_title='Contagem de trabalhos',\n",
    "    yaxis_title='Instituição'\n",
    ")"
   ]
  },
  {
   "cell_type": "code",
   "execution_count": null,
   "metadata": {},
   "outputs": [],
   "source": [
    "mais_univ"
   ]
  },
  {
   "cell_type": "code",
   "execution_count": null,
   "metadata": {},
   "outputs": [],
   "source": [
    "# Group by city and count unique institutions\n",
    "unique_city_counts = df_merged.groupby('City')['Institution'].nunique().reset_index()\n",
    "\n",
    "# Rename the columns for clarity\n",
    "unique_city_counts.columns = ['City', 'Count']\n",
    "\n",
    "# Display the result\n",
    "unique_city_counts.sort_values(by='Count', ascending=False).reset_index()"
   ]
  },
  {
   "cell_type": "code",
   "execution_count": null,
   "metadata": {},
   "outputs": [],
   "source": []
  },
  {
   "cell_type": "code",
   "execution_count": null,
   "metadata": {},
   "outputs": [],
   "source": [
    "states = geobr.read_state(year=2020)"
   ]
  },
  {
   "cell_type": "code",
   "execution_count": null,
   "metadata": {},
   "outputs": [],
   "source": []
  },
  {
   "cell_type": "code",
   "execution_count": null,
   "metadata": {},
   "outputs": [],
   "source": [
    "df_cont_estados = df_merged['abbrev_state'].value_counts().reset_index()"
   ]
  },
  {
   "cell_type": "code",
   "execution_count": null,
   "metadata": {},
   "outputs": [],
   "source": []
  },
  {
   "cell_type": "code",
   "execution_count": null,
   "metadata": {},
   "outputs": [],
   "source": [
    "import pandas as pd\n",
    "import plotly.express as px\n",
    "from statistics import mean\n",
    "estados = states\n",
    "\n",
    "estados = estados[estados['abbrev_state'].isin(df_cont_estados['abbrev_state'])]\n",
    "estados = pd.merge(estados, df_cont_estados, how='left', on='abbrev_state')\n",
    "estados.index = list(estados['abbrev_state'])\n",
    "\n",
    "# Define a discrete color sequence\n",
    "discrete_colors = px.colors.sequential.Greens\n",
    "\n",
    "fig = px.choropleth_mapbox(estados,\n",
    "    geojson=estados.geometry,\n",
    "    locations=estados.index,\n",
    "    color=\"count\",\n",
    "    center={\"lat\": (((mean(list(estados.geometry.bounds.maxy))-mean(list(estados.geometry.bounds.miny)))/2)+mean(list(estados.geometry.bounds.miny))),\n",
    "            \"lon\": (((mean(list(estados.geometry.bounds.maxx))-mean(list(estados.geometry.bounds.minx)))/2)+mean(list(estados.geometry.bounds.minx)))},\n",
    "    labels={'index':'Município'},\n",
    "    mapbox_style=\"open-street-map\",\n",
    "    zoom=3,\n",
    "    color_continuous_scale= discrete_colors,\n",
    "    height=500,\n",
    "    width=800,\n",
    ")\n",
    "fig.update_layout(margin=dict(l=1, r=1, t=1, b=1), legend_title=\"Contagem\")\n",
    "\n",
    "fig.show()"
   ]
  },
  {
   "cell_type": "code",
   "execution_count": null,
   "metadata": {},
   "outputs": [],
   "source": [
    "estados[['count']].sort_values(by='count', ascending=False)"
   ]
  },
  {
   "cell_type": "code",
   "execution_count": null,
   "metadata": {},
   "outputs": [],
   "source": [
    "df_extras['Class'].value_counts().reset_index()"
   ]
  },
  {
   "cell_type": "code",
   "execution_count": null,
   "metadata": {},
   "outputs": [],
   "source": [
    "year_counts1 = df_real['Class'].value_counts().reset_index()\n",
    "year_counts2 = df_extras[df_extras['PDF_Name'] == 'Download Failed']['Class'].value_counts().reset_index()\n",
    "\n",
    "year_counts1.columns = ['Class', 'Real']\n",
    "year_counts2.columns = ['Class', 'Extra - sem acesso']\n",
    "\n",
    "# Merge the datasets on 'Year'\n",
    "merged_counts = pd.merge(year_counts2, year_counts1, on='Class', how='outer').fillna(0)\n",
    "\n",
    "# Melt the DataFrame to long format for seaborn\n",
    "melted_counts = pd.melt(merged_counts, id_vars='Class', value_vars=['Real', 'Extra - sem acesso'], var_name='Categoria', value_name='Qt de trabalhos')\n",
    "\n",
    "melted_counts['Total'] = melted_counts.groupby('Class')['Qt de trabalhos'].transform('sum')\n",
    "print(melted_counts)\n",
    "\n",
    "# Plotting the stacked bar chart using Seaborn\n",
    "fig = px.bar(melted_counts.sort_values(by='Total'), y=\"Class\", x=\"Qt de trabalhos\", color=\"Categoria\", text_auto=True, color_discrete_sequence= px.colors.qualitative.Set2)\n",
    "fig.update_layout(\n",
    "    xaxis=dict(\n",
    "        tickmode='linear',\n",
    "        dtick=1,  # Assumes 'Year' is in a yearly format. Adjust if needed.\n",
    "        tickformat='%Y'  # Ensures the ticks are formatted as years\n",
    "    ),\n",
    "    width=800,  # Set the width of the figure (adjust as needed)\n",
    "    height=300,   # Set the height of the figure (adjust as needed)\n",
    "    xaxis_title='Qt. Trabalhos',\n",
    "    title='Teses e Dissertações em comp. quântica por tema'\n",
    ")\n",
    "fig.show()"
   ]
  },
  {
   "cell_type": "code",
   "execution_count": null,
   "metadata": {},
   "outputs": [],
   "source": [
    "count_df = df_extras.groupby(['Year', 'Class']).size().reset_index(name='count')\n",
    "\n",
    "# Criando o gráfico de barras\n",
    "fig = px.bar(count_df, x='Year', y='count', color='Class', barmode='group', text_auto=True, color_discrete_sequence= px.colors.qualitative.Set2)\n",
    "fig.update_layout(\n",
    "   width=900,  # Set the width of the figure (adjust as needed)\n",
    "    height=400\n",
    ")\n",
    "# Exibindo o gráfico\n",
    "fig.show()"
   ]
  },
  {
   "cell_type": "code",
   "execution_count": null,
   "metadata": {},
   "outputs": [],
   "source": [
    "# Definindo a classe com base na coluna PDF_name\n",
    "df_extras['disponibilidade'] = df_extras['PDF_Name'].apply(lambda x: 'Não disponível' if x == 'Download Failed' else 'Disponível')\n",
    "\n",
    "# Contando as ocorrências de cada classe em cada ano\n",
    "count_df = df_extras.groupby(['Class', 'disponibilidade']).size().reset_index(name='count')\n",
    "\n",
    "# Criando o gráfico de barras\n",
    "fig = px.bar(count_df, x='Class', y='count', color='disponibilidade', barmode='group', text_auto=True, color_discrete_sequence= px.colors.qualitative.Set2)\n",
    "fig.update_layout(\n",
    "   width=800,  # Set the width of the figure (adjust as needed)\n",
    "    height=400\n",
    ")\n",
    "# Exibindo o gráfico\n",
    "fig.show()"
   ]
  },
  {
   "cell_type": "code",
   "execution_count": null,
   "metadata": {},
   "outputs": [],
   "source": [
    "from wordcloud import WordCloud\n",
    "from nltk.corpus import stopwords\n",
    "import nltk\n",
    "# necessário para remover letras únicas - problema de formatação com alguns em latex, em que os acentos ficam estranhos. Não tem muito como reformatar, apenas manualmente, então escolhi retirar \n",
    "import string\n",
    "\n",
    "# Baixar stopwords se necessário\n",
    "nltk.download('stopwords')\n",
    "\n",
    "df = df_extras\n",
    "# Converter a coluna 'Palavras' de lista para string e remover caracteres indesejados\n",
    "df['Palavras'] = df['Palavras'].apply(lambda x: ' '.join(x))\n",
    "\n",
    "# Concatenar todas as colunas de interesse em uma única string\n",
    "text = ' '.join(df['Palavras'].astype(str) + ' ' + df['Resumo'].astype(str) + ' ' + df['Title'].astype(str))\n",
    "#text = ' '.join(df['Title'].astype(str))\n",
    "# Carregar stop words em português\n",
    "stop_words = set(stopwords.words('portuguese'))\n",
    "\n",
    "# Remover stop words e letras solitárias\n",
    "text = ' '.join([word for word in text.split() if word.lower() not in stop_words and len(word) > 1])\n",
    "\n",
    "# Gerar a word cloud\n",
    "wordcloud = WordCloud(width=1000, height=500, background_color='white').generate(text)\n",
    "\n",
    "# Mostrar a word cloud\n",
    "plt.figure(figsize=(20, 10))\n",
    "plt.imshow(wordcloud, interpolation='bilinear')\n",
    "plt.axis('off')\n",
    "plt.show()"
   ]
  },
  {
   "cell_type": "code",
   "execution_count": null,
   "metadata": {},
   "outputs": [],
   "source": []
  },
  {
   "cell_type": "code",
   "execution_count": null,
   "metadata": {},
   "outputs": [],
   "source": [
    "# ideias: orientador, curso, média do número de páginas, existencia de financiamento"
   ]
  },
  {
   "cell_type": "code",
   "execution_count": null,
   "metadata": {},
   "outputs": [],
   "source": [
    "df_real"
   ]
  },
  {
   "cell_type": "code",
   "execution_count": null,
   "metadata": {},
   "outputs": [],
   "source": [
    "count_df = df_real['Teoria e experimento'].value_counts().reset_index()\n",
    "\n",
    "# Criando o gráfico de barras\n",
    "fig = px.bar(count_df, x='Teoria e experimento', y='count', barmode='group', text_auto=True, color_discrete_sequence= px.colors.qualitative.Set2)\n",
    "fig.update_layout(\n",
    "   width=500,  # Set the width of the figure (adjust as needed)\n",
    "    height=400,\n",
    "    xaxis_title='Métodos',\n",
    "    yaxis_title='Qt. trabalhos'\n",
    ")\n",
    "# Exibindo o gráfico\n",
    "fig.show()"
   ]
  },
  {
   "cell_type": "code",
   "execution_count": null,
   "metadata": {},
   "outputs": [],
   "source": [
    "count_df = df_real['Lib'].value_counts().reset_index()\n",
    "\n",
    "# Criando o gráfico de barras\n",
    "fig = px.bar(count_df, x='Lib', y='count', barmode='group', text_auto=True, color_discrete_sequence= px.colors.qualitative.Set2[1:-1])\n",
    "fig.update_layout(\n",
    "   width=500,  # Set the width of the figure (adjust as needed)\n",
    "    height=400,\n",
    "    xaxis_title='Biblioteca para experimento',\n",
    "    yaxis_title='Qt. trabalhos'\n",
    ")\n",
    "# Exibindo o gráfico\n",
    "fig.show()"
   ]
  },
  {
   "cell_type": "code",
   "execution_count": null,
   "metadata": {},
   "outputs": [],
   "source": [
    "df_real.to_csv('csv_real.csv')"
   ]
  },
  {
   "cell_type": "code",
   "execution_count": null,
   "metadata": {},
   "outputs": [],
   "source": []
  },
  {
   "cell_type": "code",
   "execution_count": null,
   "metadata": {},
   "outputs": [],
   "source": [
    "# número de estudos que não apresentam limitações.\n",
    "df_real[df_real['Limitações'] == 'N']['Limitações'].count()"
   ]
  },
  {
   "cell_type": "code",
   "execution_count": null,
   "metadata": {},
   "outputs": [],
   "source": [
    "# número de estudos que não apresentam diretrizes para o futuro.\n",
    "df_real[df_real['Futuro'] == 'N']['Futuro'].count()"
   ]
  },
  {
   "cell_type": "code",
   "execution_count": null,
   "metadata": {},
   "outputs": [],
   "source": [
    "df_real['Futuro-texto'].to_csv('futuro.csv')"
   ]
  },
  {
   "cell_type": "code",
   "execution_count": null,
   "metadata": {},
   "outputs": [],
   "source": [
    "for idx, i in df_real.iterrows():\n",
    "    print(f\"{i['Author']} ({i['Year']}) : {i['Futuro-texto']}\")"
   ]
  },
  {
   "cell_type": "code",
   "execution_count": null,
   "metadata": {},
   "outputs": [],
   "source": []
  }
 ],
 "metadata": {
  "kernelspec": {
   "display_name": "Python 3 (ipykernel)",
   "language": "python",
   "name": "python3"
  },
  "language_info": {
   "codemirror_mode": {
    "name": "ipython",
    "version": 3
   },
   "file_extension": ".py",
   "mimetype": "text/x-python",
   "name": "python",
   "nbconvert_exporter": "python",
   "pygments_lexer": "ipython3",
   "version": "3.11.5"
  }
 },
 "nbformat": 4,
 "nbformat_minor": 4
}
